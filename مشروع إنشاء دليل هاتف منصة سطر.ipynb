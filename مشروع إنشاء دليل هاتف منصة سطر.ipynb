{
 "cells": [
  {
   "cell_type": "code",
   "execution_count": 1,
   "id": "905c9d84",
   "metadata": {},
   "outputs": [
    {
     "name": "stdout",
     "output_type": "stream",
     "text": [
      "Enter your age: 16\n",
      "You Are 16 Years Old!\n"
     ]
    }
   ],
   "source": [
    "age = input('Enter your age: ')\n",
    "print(f'You Are {age} Years Old!')"
   ]
  },
  {
   "cell_type": "code",
   "execution_count": 60,
   "id": "66788f99",
   "metadata": {},
   "outputs": [
    {
     "name": "stdout",
     "output_type": "stream",
     "text": [
      "1) search_number \n",
      "2) add_phone \n",
      "3) search_name1\n",
      "Enter number phone: 3333333333\n",
      "this number from Khadijah\n"
     ]
    }
   ],
   "source": [
    "import re\n",
    "def search_number():\n",
    "    number = str(input('Enter number phone: '))\n",
    "    if (len(number) != 10) :\n",
    "        print('This is invalid number')\n",
    "    elif re.search('[^(0-9)]',number) :\n",
    "        print('This is invalid number')\n",
    "    elif int(number) in inf.keys() :\n",
    "        print(f'this number from {inf[int(number)]}')\n",
    "    else :\n",
    "        print('Sorry, the number is not found ')\n",
    "def add_phone():\n",
    "    number = str(input('Enter number phone: '))\n",
    "    name= input('Enter your name : ')\n",
    "    if (len(number) == 10) & (not(int(number) in inf.keys())):\n",
    "        if  (re.search('[(0-9)]',number)) :\n",
    "            inf[number] = name \n",
    "            print('Done👌💪')\n",
    "        else :\n",
    "            print('error')\n",
    "def search_name():\n",
    "    name= input('Enter your name : ')\n",
    "    if name in inf.values():\n",
    "        print('The name is found ')\n",
    "    else :\n",
    "        print('Sorry, the number is not found ')\n",
    "\n",
    "        \n",
    "        \n",
    "inf = {1111111111:'Amal',2222222222:'Mohammed',3333333333:'Khadijah',4444444444:'Abdullah',5555555555:'Rawan',6666666666:'Faisal',7777777777:'Layla'}\n",
    "\n",
    "choice = input(f'1) search_number \\n2) add_phone \\n3) search_name')\n",
    "if choice == '1' :\n",
    "    search_number()\n",
    "elif choice == '2' :\n",
    "    add_phone()\n",
    "elif choice == '3' :\n",
    "    search_name()"
   ]
  },
  {
   "cell_type": "code",
   "execution_count": null,
   "id": "322da890",
   "metadata": {},
   "outputs": [],
   "source": []
  }
 ],
 "metadata": {
  "kernelspec": {
   "display_name": "Python 3 (ipykernel)",
   "language": "python",
   "name": "python3"
  },
  "language_info": {
   "codemirror_mode": {
    "name": "ipython",
    "version": 3
   },
   "file_extension": ".py",
   "mimetype": "text/x-python",
   "name": "python",
   "nbconvert_exporter": "python",
   "pygments_lexer": "ipython3",
   "version": "3.9.12"
  }
 },
 "nbformat": 4,
 "nbformat_minor": 5
}
